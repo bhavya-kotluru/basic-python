{
 "cells": [
  {
   "cell_type": "markdown",
   "id": "ac7d48c0-487a-4b63-b46b-c4fe435b0180",
   "metadata": {},
   "source": [
    "### addition + \n",
    "### subtraction - \n",
    "### multiplication *\n",
    "### divison / \n",
    "### reminder % \n",
    "### power **\n",
    "### //floor division"
   ]
  },
  {
   "cell_type": "code",
   "execution_count": 5,
   "id": "a9fef24c-f34c-4524-824e-3c4f62a2e3b9",
   "metadata": {},
   "outputs": [
    {
     "data": {
      "text/plain": [
       "5"
      ]
     },
     "execution_count": 5,
     "metadata": {},
     "output_type": "execute_result"
    }
   ],
   "source": [
    "a=5\n",
    "a"
   ]
  },
  {
   "cell_type": "code",
   "execution_count": 6,
   "id": "0a9d69d0-a722-47f3-a4c6-1a74970a1a7e",
   "metadata": {},
   "outputs": [
    {
     "data": {
      "text/plain": [
       "4"
      ]
     },
     "execution_count": 6,
     "metadata": {},
     "output_type": "execute_result"
    }
   ],
   "source": [
    "b=4\n",
    "b"
   ]
  },
  {
   "cell_type": "code",
   "execution_count": 3,
   "id": "9edd2b99-8644-48eb-a122-50c4c9650908",
   "metadata": {},
   "outputs": [
    {
     "data": {
      "text/plain": [
       "9"
      ]
     },
     "execution_count": 3,
     "metadata": {},
     "output_type": "execute_result"
    }
   ],
   "source": [
    "c=a+b\n",
    "c"
   ]
  },
  {
   "cell_type": "code",
   "execution_count": 4,
   "id": "11daccc1-04f3-43e0-9ac6-70d027e2f338",
   "metadata": {},
   "outputs": [
    {
     "data": {
      "text/plain": [
       "1"
      ]
     },
     "execution_count": 4,
     "metadata": {},
     "output_type": "execute_result"
    }
   ],
   "source": [
    "d=a-b\n",
    "d"
   ]
  },
  {
   "cell_type": "code",
   "execution_count": 5,
   "id": "0ca3ec8f-b6f7-46b9-8bd9-3acc44b6e217",
   "metadata": {},
   "outputs": [
    {
     "data": {
      "text/plain": [
       "20"
      ]
     },
     "execution_count": 5,
     "metadata": {},
     "output_type": "execute_result"
    }
   ],
   "source": [
    "e=a*b\n",
    "e"
   ]
  },
  {
   "cell_type": "code",
   "execution_count": 6,
   "id": "e7182e02-87ae-4a54-8f71-9ce344f4c156",
   "metadata": {},
   "outputs": [
    {
     "data": {
      "text/plain": [
       "1.25"
      ]
     },
     "execution_count": 6,
     "metadata": {},
     "output_type": "execute_result"
    }
   ],
   "source": [
    "f=a/b\n",
    "f"
   ]
  },
  {
   "cell_type": "code",
   "execution_count": 7,
   "id": "e8e1cf88-af0c-4fb5-b515-26a842bea03e",
   "metadata": {},
   "outputs": [
    {
     "data": {
      "text/plain": [
       "1"
      ]
     },
     "execution_count": 7,
     "metadata": {},
     "output_type": "execute_result"
    }
   ],
   "source": [
    "g=a%b\n",
    "g"
   ]
  },
  {
   "cell_type": "code",
   "execution_count": 8,
   "id": "9d1eceb1-4cf2-470e-895d-6bc0837f2f66",
   "metadata": {},
   "outputs": [
    {
     "data": {
      "text/plain": [
       "625"
      ]
     },
     "execution_count": 8,
     "metadata": {},
     "output_type": "execute_result"
    }
   ],
   "source": [
    "h=a**b\n",
    "h"
   ]
  },
  {
   "cell_type": "code",
   "execution_count": 9,
   "id": "1ff1cd33-67bd-4384-a5d3-0eea7c130c48",
   "metadata": {},
   "outputs": [
    {
     "data": {
      "text/plain": [
       "1"
      ]
     },
     "execution_count": 9,
     "metadata": {},
     "output_type": "execute_result"
    }
   ],
   "source": [
    "i=a//b\n",
    "i"
   ]
  },
  {
   "cell_type": "code",
   "execution_count": 10,
   "id": "20744cb0-4ea0-4fdf-9f94-57a3092d2176",
   "metadata": {},
   "outputs": [],
   "source": [
    "j=30\n",
    "k=22"
   ]
  },
  {
   "cell_type": "code",
   "execution_count": 11,
   "id": "b93223bd-70cb-48ee-82ec-ab154246db87",
   "metadata": {},
   "outputs": [
    {
     "data": {
      "text/plain": [
       "True"
      ]
     },
     "execution_count": 11,
     "metadata": {},
     "output_type": "execute_result"
    }
   ],
   "source": [
    "j>b"
   ]
  },
  {
   "cell_type": "code",
   "execution_count": 12,
   "id": "24c11d43-52c8-4914-a89d-d4030eea9a4e",
   "metadata": {},
   "outputs": [
    {
     "data": {
      "text/plain": [
       "False"
      ]
     },
     "execution_count": 12,
     "metadata": {},
     "output_type": "execute_result"
    }
   ],
   "source": [
    "j<k"
   ]
  },
  {
   "cell_type": "code",
   "execution_count": 13,
   "id": "7f9b9c36-934f-407d-ae96-0214b605831c",
   "metadata": {},
   "outputs": [
    {
     "data": {
      "text/plain": [
       "int"
      ]
     },
     "execution_count": 13,
     "metadata": {},
     "output_type": "execute_result"
    }
   ],
   "source": [
    "type(a)"
   ]
  },
  {
   "cell_type": "code",
   "execution_count": 9,
   "id": "bdfcdf7d-4786-4f71-ab93-4c0ff07708c1",
   "metadata": {},
   "outputs": [
    {
     "data": {
      "text/plain": [
       "'bhavya'"
      ]
     },
     "execution_count": 9,
     "metadata": {},
     "output_type": "execute_result"
    }
   ],
   "source": [
    "l='bhavya'\n",
    "l"
   ]
  },
  {
   "cell_type": "code",
   "execution_count": 15,
   "id": "2b131f2d-29a5-4314-aa6c-c98220227542",
   "metadata": {},
   "outputs": [
    {
     "data": {
      "text/plain": [
       "'kotluru'"
      ]
     },
     "execution_count": 15,
     "metadata": {},
     "output_type": "execute_result"
    }
   ],
   "source": [
    "j='kotluru'\n",
    "j"
   ]
  },
  {
   "cell_type": "code",
   "execution_count": 16,
   "id": "1203824e-e6f3-4733-97ad-3a732a726a8c",
   "metadata": {},
   "outputs": [
    {
     "data": {
      "text/plain": [
       "'bhavyakotluru'"
      ]
     },
     "execution_count": 16,
     "metadata": {},
     "output_type": "execute_result"
    }
   ],
   "source": [
    "l+j"
   ]
  },
  {
   "cell_type": "code",
   "execution_count": 7,
   "id": "f93be3aa-02f6-41d4-9be7-c238f25a697b",
   "metadata": {},
   "outputs": [
    {
     "data": {
      "text/plain": [
       "True"
      ]
     },
     "execution_count": 7,
     "metadata": {},
     "output_type": "execute_result"
    }
   ],
   "source": [
    "a>=b"
   ]
  },
  {
   "cell_type": "code",
   "execution_count": 10,
   "id": "54250d4d-f752-446f-986e-56f6a1b0c926",
   "metadata": {},
   "outputs": [
    {
     "data": {
      "text/plain": [
       "str"
      ]
     },
     "execution_count": 10,
     "metadata": {},
     "output_type": "execute_result"
    }
   ],
   "source": [
    "type(l)"
   ]
  },
  {
   "cell_type": "code",
   "execution_count": 11,
   "id": "d1a1fcc8-363f-4b71-bee6-2efe50d2d7f5",
   "metadata": {},
   "outputs": [
    {
     "data": {
      "text/plain": [
       "False"
      ]
     },
     "execution_count": 11,
     "metadata": {},
     "output_type": "execute_result"
    }
   ],
   "source": [
    "a==b"
   ]
  },
  {
   "cell_type": "code",
   "execution_count": 12,
   "id": "7e117df7-27f9-434b-ad12-93e7b61ad622",
   "metadata": {},
   "outputs": [
    {
     "data": {
      "text/plain": [
       "True"
      ]
     },
     "execution_count": 12,
     "metadata": {},
     "output_type": "execute_result"
    }
   ],
   "source": [
    "a!=b"
   ]
  },
  {
   "cell_type": "code",
   "execution_count": 13,
   "id": "d9571dda-cd59-4ac6-8cd1-cac8e4ed9ca8",
   "metadata": {},
   "outputs": [
    {
     "data": {
      "text/plain": [
       "True"
      ]
     },
     "execution_count": 13,
     "metadata": {},
     "output_type": "execute_result"
    }
   ],
   "source": [
    "6==3*2"
   ]
  },
  {
   "cell_type": "code",
   "execution_count": 14,
   "id": "41e2bd59-f3e6-4c92-8342-ce4278ced40c",
   "metadata": {},
   "outputs": [],
   "source": [
    "d=8.5"
   ]
  },
  {
   "cell_type": "code",
   "execution_count": 15,
   "id": "7ee15f44-51c1-4d7e-9da4-a617f229a779",
   "metadata": {},
   "outputs": [
    {
     "data": {
      "text/plain": [
       "True"
      ]
     },
     "execution_count": 15,
     "metadata": {},
     "output_type": "execute_result"
    }
   ],
   "source": [
    "d>= 8.1 or d<=9.0"
   ]
  },
  {
   "cell_type": "code",
   "execution_count": 16,
   "id": "e192a6d2-96df-4705-8664-60b9c2f4af66",
   "metadata": {},
   "outputs": [
    {
     "data": {
      "text/plain": [
       "True"
      ]
     },
     "execution_count": 16,
     "metadata": {},
     "output_type": "execute_result"
    }
   ],
   "source": [
    "not a<b"
   ]
  },
  {
   "cell_type": "code",
   "execution_count": 2,
   "id": "e42af6ee-036d-470e-859c-32acf1e60416",
   "metadata": {},
   "outputs": [
    {
     "data": {
      "text/plain": [
       "8.59"
      ]
     },
     "execution_count": 2,
     "metadata": {},
     "output_type": "execute_result"
    }
   ],
   "source": [
    "cgpa=8.59\n",
    "cgpa"
   ]
  },
  {
   "cell_type": "code",
   "execution_count": 4,
   "id": "b65f6e8e-b213-486a-9767-380564f27712",
   "metadata": {},
   "outputs": [
    {
     "data": {
      "text/plain": [
       "False"
      ]
     },
     "execution_count": 4,
     "metadata": {},
     "output_type": "execute_result"
    }
   ],
   "source": [
    "cgpa>9.1 and cgpa<10 #A+ grade"
   ]
  },
  {
   "cell_type": "code",
   "execution_count": 5,
   "id": "4f6cca06-aa12-443e-a8ff-397d209f5094",
   "metadata": {},
   "outputs": [
    {
     "data": {
      "text/plain": [
       "True"
      ]
     },
     "execution_count": 5,
     "metadata": {},
     "output_type": "execute_result"
    }
   ],
   "source": [
    "cgpa>8.1 and cgpa<9.1 #A grade"
   ]
  },
  {
   "cell_type": "code",
   "execution_count": 6,
   "id": "802923c0-c566-4214-be31-0e72ac2fb042",
   "metadata": {},
   "outputs": [
    {
     "data": {
      "text/plain": [
       "False"
      ]
     },
     "execution_count": 6,
     "metadata": {},
     "output_type": "execute_result"
    }
   ],
   "source": [
    "cgpa>7.1 and cgpa<8.1 #B+ grade"
   ]
  },
  {
   "cell_type": "code",
   "execution_count": 7,
   "id": "00436f72-e7c5-4836-8912-700f7a489708",
   "metadata": {},
   "outputs": [
    {
     "data": {
      "text/plain": [
       "False"
      ]
     },
     "execution_count": 7,
     "metadata": {},
     "output_type": "execute_result"
    }
   ],
   "source": [
    "cgpa>6.1 and cgpa<7.1 #B grade"
   ]
  },
  {
   "cell_type": "code",
   "execution_count": 8,
   "id": "072ddeec-89d2-4a09-bffd-beabd1d6f0fd",
   "metadata": {},
   "outputs": [
    {
     "data": {
      "text/plain": [
       "True"
      ]
     },
     "execution_count": 8,
     "metadata": {},
     "output_type": "execute_result"
    }
   ],
   "source": [
    "cgpa>5.1 and cgpa>6.1 #C grade"
   ]
  },
  {
   "cell_type": "code",
   "execution_count": 9,
   "id": "3c755e27-d350-47eb-9f58-726285f6c34e",
   "metadata": {},
   "outputs": [
    {
     "data": {
      "text/plain": [
       "True"
      ]
     },
     "execution_count": 9,
     "metadata": {},
     "output_type": "execute_result"
    }
   ],
   "source": [
    "cgpa>4.1 and cgpa>5.1 #Fail"
   ]
  },
  {
   "cell_type": "code",
   "execution_count": 1,
   "id": "a555805c-9b4a-4161-9dbb-2874ee488a7d",
   "metadata": {},
   "outputs": [
    {
     "data": {
      "text/plain": [
       "{23, 34, 56, 67}"
      ]
     },
     "execution_count": 1,
     "metadata": {},
     "output_type": "execute_result"
    }
   ],
   "source": [
    "a={23,34,56,67}\n",
    "a"
   ]
  },
  {
   "cell_type": "code",
   "execution_count": 2,
   "id": "bec5460d-ec4b-4438-af26-3bbd242f864a",
   "metadata": {},
   "outputs": [
    {
     "data": {
      "text/plain": [
       "set"
      ]
     },
     "execution_count": 2,
     "metadata": {},
     "output_type": "execute_result"
    }
   ],
   "source": [
    "type(a)"
   ]
  },
  {
   "cell_type": "code",
   "execution_count": 3,
   "id": "ae2068fd-fac3-4ed3-b6b7-00ad31e75b53",
   "metadata": {},
   "outputs": [
    {
     "data": {
      "text/plain": [
       "[23, 34, 56, 67]"
      ]
     },
     "execution_count": 3,
     "metadata": {},
     "output_type": "execute_result"
    }
   ],
   "source": [
    "a=[23,34,56,67]\n",
    "a"
   ]
  },
  {
   "cell_type": "code",
   "execution_count": 4,
   "id": "a39a0c03-6e00-4d50-bcac-439572e1e3a4",
   "metadata": {},
   "outputs": [
    {
     "data": {
      "text/plain": [
       "list"
      ]
     },
     "execution_count": 4,
     "metadata": {},
     "output_type": "execute_result"
    }
   ],
   "source": [
    "type(a)"
   ]
  },
  {
   "cell_type": "code",
   "execution_count": 5,
   "id": "00b6673b-0356-475b-9f75-cb418472a3a7",
   "metadata": {},
   "outputs": [
    {
     "data": {
      "text/plain": [
       "[340, 80.45, 'data', True]"
      ]
     },
     "execution_count": 5,
     "metadata": {},
     "output_type": "execute_result"
    }
   ],
   "source": [
    "c=[340,80.45,'data',True]\n",
    "c"
   ]
  },
  {
   "cell_type": "code",
   "execution_count": 6,
   "id": "f1000d60-18e3-47c6-a0f4-b688e0069566",
   "metadata": {},
   "outputs": [
    {
     "data": {
      "text/plain": [
       "list"
      ]
     },
     "execution_count": 6,
     "metadata": {},
     "output_type": "execute_result"
    }
   ],
   "source": [
    "type(c)"
   ]
  },
  {
   "cell_type": "code",
   "execution_count": 7,
   "id": "f8036286-d6e9-4666-a7f5-84029ed10a1d",
   "metadata": {},
   "outputs": [
    {
     "data": {
      "text/plain": [
       "['data', True, 80.45, 120, 'hyd', 45, 90, 16, False]"
      ]
     },
     "execution_count": 7,
     "metadata": {},
     "output_type": "execute_result"
    }
   ],
   "source": [
    "c=['data',True,80.45,120,'hyd',45,90,16,False]\n",
    "c"
   ]
  },
  {
   "cell_type": "code",
   "execution_count": 8,
   "id": "b4bdc15c-0672-462a-99d8-e49aec885e43",
   "metadata": {},
   "outputs": [
    {
     "data": {
      "text/plain": [
       "[30, 90, 80, 67, 78, 98, 45]"
      ]
     },
     "execution_count": 8,
     "metadata": {},
     "output_type": "execute_result"
    }
   ],
   "source": [
    "d=[30,90,80,67,78,98,45]\n",
    "d"
   ]
  },
  {
   "cell_type": "code",
   "execution_count": 9,
   "id": "b50f223e-4bb8-4316-bbab-d7754a350682",
   "metadata": {},
   "outputs": [
    {
     "data": {
      "text/plain": [
       "30"
      ]
     },
     "execution_count": 9,
     "metadata": {},
     "output_type": "execute_result"
    }
   ],
   "source": [
    "d[0]"
   ]
  },
  {
   "cell_type": "code",
   "execution_count": 10,
   "id": "65d9a066-1a7c-40ea-8e0d-9a9758485bca",
   "metadata": {},
   "outputs": [
    {
     "data": {
      "text/plain": [
       "'hyd'"
      ]
     },
     "execution_count": 10,
     "metadata": {},
     "output_type": "execute_result"
    }
   ],
   "source": [
    "c[4]"
   ]
  },
  {
   "cell_type": "code",
   "execution_count": 11,
   "id": "7935ee9b-8ac0-462d-a598-d6a8a02e2d0c",
   "metadata": {},
   "outputs": [
    {
     "data": {
      "text/plain": [
       "120"
      ]
     },
     "execution_count": 11,
     "metadata": {},
     "output_type": "execute_result"
    }
   ],
   "source": [
    "c[3]"
   ]
  },
  {
   "cell_type": "code",
   "execution_count": 12,
   "id": "06b6bdb4-048b-4b9e-a148-c3d9fd605f19",
   "metadata": {},
   "outputs": [
    {
     "data": {
      "text/plain": [
       "[120, 'hyd', 45]"
      ]
     },
     "execution_count": 12,
     "metadata": {},
     "output_type": "execute_result"
    }
   ],
   "source": [
    "c[3:6]"
   ]
  },
  {
   "cell_type": "code",
   "execution_count": 13,
   "id": "507db4b2-d5e4-4ef1-87a4-db6c59aa5dbe",
   "metadata": {},
   "outputs": [
    {
     "data": {
      "text/plain": [
       "['data', 80.45, 'hyd', 90, False]"
      ]
     },
     "execution_count": 13,
     "metadata": {},
     "output_type": "execute_result"
    }
   ],
   "source": [
    "c[0::2]"
   ]
  },
  {
   "cell_type": "code",
   "execution_count": 14,
   "id": "f52025f6-a878-44a3-a20a-cdae5d72e50b",
   "metadata": {},
   "outputs": [
    {
     "data": {
      "text/plain": [
       "['data', True, 80.45, 120, 'hyd', 45, 90]"
      ]
     },
     "execution_count": 14,
     "metadata": {},
     "output_type": "execute_result"
    }
   ],
   "source": [
    "c[0:7:1]"
   ]
  },
  {
   "cell_type": "code",
   "execution_count": 17,
   "id": "9825e5e3-2410-4550-809d-968cdbff1c76",
   "metadata": {},
   "outputs": [
    {
     "data": {
      "text/plain": [
       "45"
      ]
     },
     "execution_count": 17,
     "metadata": {},
     "output_type": "execute_result"
    }
   ],
   "source": [
    "c[-4]"
   ]
  },
  {
   "cell_type": "code",
   "execution_count": 18,
   "id": "4011e637-6f81-4a07-a812-e9a11b8a9766",
   "metadata": {},
   "outputs": [
    {
     "data": {
      "text/plain": [
       "[16, 90, 45, 'hyd', 120]"
      ]
     },
     "execution_count": 18,
     "metadata": {},
     "output_type": "execute_result"
    }
   ],
   "source": [
    "c[-2:-7:-1]"
   ]
  },
  {
   "cell_type": "code",
   "execution_count": 20,
   "id": "2626d3d0-37e7-4b4e-a51b-b2526da191ac",
   "metadata": {},
   "outputs": [
    {
     "data": {
      "text/plain": [
       "['hyd', 120, 80.45]"
      ]
     },
     "execution_count": 20,
     "metadata": {},
     "output_type": "execute_result"
    }
   ],
   "source": [
    "c[-5:-8:-1]"
   ]
  },
  {
   "cell_type": "code",
   "execution_count": 21,
   "id": "a6466d0e-3c70-47b8-a0ce-1e37705a377c",
   "metadata": {},
   "outputs": [
    {
     "data": {
      "text/plain": [
       "[90, 45, 'hyd', 120]"
      ]
     },
     "execution_count": 21,
     "metadata": {},
     "output_type": "execute_result"
    }
   ],
   "source": [
    "c[6:2:-1]"
   ]
  },
  {
   "cell_type": "markdown",
   "id": "7cceb230-b19b-442a-86cd-7a6f3b8ae709",
   "metadata": {},
   "source": [
    "# list methods\n",
    "append\n",
    "insert\n",
    "extend\n",
    "pop\n",
    "remove\n",
    "clear\n",
    "cut"
   ]
  },
  {
   "cell_type": "code",
   "execution_count": 22,
   "id": "7c5573c5-7dc5-4b78-9f16-d37333340017",
   "metadata": {},
   "outputs": [],
   "source": [
    "c.append(4)"
   ]
  },
  {
   "cell_type": "code",
   "execution_count": 23,
   "id": "d2baa31c-a7c0-41d6-8ea8-140e5e02bcbc",
   "metadata": {},
   "outputs": [
    {
     "data": {
      "text/plain": [
       "['data', True, 80.45, 120, 'hyd', 45, 90, 16, False, 4]"
      ]
     },
     "execution_count": 23,
     "metadata": {},
     "output_type": "execute_result"
    }
   ],
   "source": [
    "c"
   ]
  },
  {
   "cell_type": "code",
   "execution_count": 4,
   "id": "f19cfd56-58ad-43a0-a023-3195c3612d41",
   "metadata": {},
   "outputs": [
    {
     "data": {
      "text/plain": [
       "[20, 40, 70, 8, 7, 45, 48, 55]"
      ]
     },
     "execution_count": 4,
     "metadata": {},
     "output_type": "execute_result"
    }
   ],
   "source": [
    "d=[20,40,70,8,7,45,48,55]\n",
    "d"
   ]
  },
  {
   "cell_type": "code",
   "execution_count": 16,
   "id": "18d20c43-f3d6-4414-b456-55dec85aa8f5",
   "metadata": {},
   "outputs": [
    {
     "data": {
      "text/plain": [
       "{101: 200, 102: 500, 103: 'India', 104: 4000, 105: [100, 80, 5000, 420]}"
      ]
     },
     "execution_count": 16,
     "metadata": {},
     "output_type": "execute_result"
    }
   ],
   "source": [
    "d={101:200,102:500,103:'India',104:4000,105:[100,80,5000,420]}\n",
    "d"
   ]
  },
  {
   "cell_type": "code",
   "execution_count": 6,
   "id": "4b80bc92-8b99-4808-9170-96f606665246",
   "metadata": {},
   "outputs": [
    {
     "data": {
      "text/plain": [
       "dict"
      ]
     },
     "execution_count": 6,
     "metadata": {},
     "output_type": "execute_result"
    }
   ],
   "source": [
    "type(d)"
   ]
  },
  {
   "cell_type": "code",
   "execution_count": 7,
   "id": "08c63d06-49a0-4f1f-8e0e-76ba017c25a7",
   "metadata": {},
   "outputs": [
    {
     "data": {
      "text/plain": [
       "'india'"
      ]
     },
     "execution_count": 7,
     "metadata": {},
     "output_type": "execute_result"
    }
   ],
   "source": [
    "a='india'\n",
    "a"
   ]
  },
  {
   "cell_type": "code",
   "execution_count": 8,
   "id": "7202f09c-f867-4947-97cf-43c084d7e755",
   "metadata": {},
   "outputs": [
    {
     "data": {
      "text/plain": [
       "False"
      ]
     },
     "execution_count": 8,
     "metadata": {},
     "output_type": "execute_result"
    }
   ],
   "source": [
    "a.isdigit()"
   ]
  },
  {
   "cell_type": "code",
   "execution_count": 9,
   "id": "a7900c37-dfd5-43e8-a8f9-b23e4e47499b",
   "metadata": {},
   "outputs": [
    {
     "data": {
      "text/plain": [
       "'INDIA'"
      ]
     },
     "execution_count": 9,
     "metadata": {},
     "output_type": "execute_result"
    }
   ],
   "source": [
    "a.upper()"
   ]
  },
  {
   "cell_type": "code",
   "execution_count": 10,
   "id": "4eda9f08-6297-4486-963d-e56fc12b1572",
   "metadata": {},
   "outputs": [
    {
     "data": {
      "text/plain": [
       "'india'"
      ]
     },
     "execution_count": 10,
     "metadata": {},
     "output_type": "execute_result"
    }
   ],
   "source": [
    "a.lower()"
   ]
  },
  {
   "cell_type": "code",
   "execution_count": 11,
   "id": "f90a0eba-cbeb-49d3-a266-65e165c0a139",
   "metadata": {},
   "outputs": [
    {
     "data": {
      "text/plain": [
       "'india'"
      ]
     },
     "execution_count": 11,
     "metadata": {},
     "output_type": "execute_result"
    }
   ],
   "source": [
    "d[103].lower()"
   ]
  },
  {
   "cell_type": "code",
   "execution_count": 13,
   "id": "5b1756b4-01c1-4e8a-8743-fd43bd6b0834",
   "metadata": {},
   "outputs": [
    {
     "data": {
      "text/plain": [
       "int"
      ]
     },
     "execution_count": 13,
     "metadata": {},
     "output_type": "execute_result"
    }
   ],
   "source": [
    "type(d[104])"
   ]
  },
  {
   "cell_type": "code",
   "execution_count": 17,
   "id": "f512e1ba-924b-4058-9255-ba4b0130d42a",
   "metadata": {},
   "outputs": [
    {
     "data": {
      "text/plain": [
       "1"
      ]
     },
     "execution_count": 17,
     "metadata": {},
     "output_type": "execute_result"
    }
   ],
   "source": [
    "d[105].count(5000)"
   ]
  },
  {
   "cell_type": "code",
   "execution_count": 18,
   "id": "e99289a9-02a7-4d46-b6fc-369ed9c467e0",
   "metadata": {},
   "outputs": [
    {
     "data": {
      "text/plain": [
       "list"
      ]
     },
     "execution_count": 18,
     "metadata": {},
     "output_type": "execute_result"
    }
   ],
   "source": [
    "type(d[105])"
   ]
  },
  {
   "cell_type": "code",
   "execution_count": 20,
   "id": "62ac0d83-14fc-4eec-8095-87e72d9a5c6e",
   "metadata": {},
   "outputs": [
    {
     "data": {
      "text/plain": [
       "{101: 200,\n",
       " 102: 500,\n",
       " 103: 'India',\n",
       " 104: (30, 40, 50, 60, 70),\n",
       " 105: [100, 80, 5000, 420]}"
      ]
     },
     "execution_count": 20,
     "metadata": {},
     "output_type": "execute_result"
    }
   ],
   "source": [
    "d.update({104:(30,40,50,60,70)})\n",
    "d"
   ]
  },
  {
   "cell_type": "code",
   "execution_count": 21,
   "id": "a49036aa-42e6-4aef-b05f-01a1b7fae5a5",
   "metadata": {},
   "outputs": [
    {
     "data": {
      "text/plain": [
       "str"
      ]
     },
     "execution_count": 21,
     "metadata": {},
     "output_type": "execute_result"
    }
   ],
   "source": [
    "type(d[103])"
   ]
  },
  {
   "cell_type": "code",
   "execution_count": 23,
   "id": "ef057598-3030-452a-a927-5d0e72715588",
   "metadata": {},
   "outputs": [
    {
     "data": {
      "text/plain": [
       "'India'"
      ]
     },
     "execution_count": 23,
     "metadata": {},
     "output_type": "execute_result"
    }
   ],
   "source": [
    "d[103]"
   ]
  },
  {
   "cell_type": "code",
   "execution_count": 24,
   "id": "099298df-7d47-4303-b9ba-24b99ddaa7b7",
   "metadata": {},
   "outputs": [
    {
     "data": {
      "text/plain": [
       "'INDIA'"
      ]
     },
     "execution_count": 24,
     "metadata": {},
     "output_type": "execute_result"
    }
   ],
   "source": [
    "d[103].upper()"
   ]
  },
  {
   "cell_type": "code",
   "execution_count": 25,
   "id": "73ef737c-46af-45b9-9ddb-ee626139cc0b",
   "metadata": {},
   "outputs": [],
   "source": [
    "d[103]=d[103].lower()"
   ]
  },
  {
   "cell_type": "code",
   "execution_count": 26,
   "id": "a03c3389-5c12-425b-ae0b-c22183b0d12e",
   "metadata": {},
   "outputs": [
    {
     "data": {
      "text/plain": [
       "{101: 200,\n",
       " 102: 500,\n",
       " 103: 'india',\n",
       " 104: (30, 40, 50, 60, 70),\n",
       " 105: [100, 80, 5000, 420]}"
      ]
     },
     "execution_count": 26,
     "metadata": {},
     "output_type": "execute_result"
    }
   ],
   "source": [
    "d"
   ]
  },
  {
   "cell_type": "code",
   "execution_count": 27,
   "id": "c7c435e6-d20e-4571-8c95-dba98ac9e249",
   "metadata": {},
   "outputs": [],
   "source": [
    "d[103]=d[103].upper()"
   ]
  },
  {
   "cell_type": "code",
   "execution_count": 28,
   "id": "5c5228b4-6677-406e-977b-7d6d2296cfe5",
   "metadata": {},
   "outputs": [
    {
     "data": {
      "text/plain": [
       "{101: 200,\n",
       " 102: 500,\n",
       " 103: 'INDIA',\n",
       " 104: (30, 40, 50, 60, 70),\n",
       " 105: [100, 80, 5000, 420]}"
      ]
     },
     "execution_count": 28,
     "metadata": {},
     "output_type": "execute_result"
    }
   ],
   "source": [
    "d"
   ]
  },
  {
   "cell_type": "code",
   "execution_count": 30,
   "id": "935bc619-e3c3-40aa-8d42-56ddae1b807e",
   "metadata": {},
   "outputs": [],
   "source": [
    "d[101]={'a':{30,40,80},'b':(1000,600,5000),'c':['k',{'L':[11,22],'M':(77,88)},'N']}"
   ]
  },
  {
   "cell_type": "code",
   "execution_count": 31,
   "id": "02680d32-e6c3-4018-99dc-4ef2728f98da",
   "metadata": {},
   "outputs": [
    {
     "data": {
      "text/plain": [
       "{101: {'a': {30, 40, 80},\n",
       "  'b': (1000, 600, 5000),\n",
       "  'c': ['k', {'L': [11, 22], 'M': (77, 88)}, 'N']},\n",
       " 102: 500,\n",
       " 103: 'INDIA',\n",
       " 104: (30, 40, 50, 60, 70),\n",
       " 105: [100, 80, 5000, 420]}"
      ]
     },
     "execution_count": 31,
     "metadata": {},
     "output_type": "execute_result"
    }
   ],
   "source": [
    "d"
   ]
  },
  {
   "cell_type": "code",
   "execution_count": 37,
   "id": "31def3e7-9f16-49d8-815e-8a1e6b9a3acc",
   "metadata": {},
   "outputs": [
    {
     "data": {
      "text/plain": [
       "22"
      ]
     },
     "execution_count": 37,
     "metadata": {},
     "output_type": "execute_result"
    }
   ],
   "source": [
    "d[101]['c'][1]['L'][1]"
   ]
  },
  {
   "cell_type": "code",
   "execution_count": 38,
   "id": "feb465b6-138f-4c93-8c56-df62374dc078",
   "metadata": {},
   "outputs": [
    {
     "data": {
      "text/plain": [
       "420"
      ]
     },
     "execution_count": 38,
     "metadata": {},
     "output_type": "execute_result"
    }
   ],
   "source": [
    "d[105][3]"
   ]
  },
  {
   "cell_type": "code",
   "execution_count": null,
   "id": "5ca632e4-e1ae-47e2-92e2-4c065ee1aec9",
   "metadata": {},
   "outputs": [],
   "source": []
  }
 ],
 "metadata": {
  "kernelspec": {
   "display_name": "Python 3 (ipykernel)",
   "language": "python",
   "name": "python3"
  },
  "language_info": {
   "codemirror_mode": {
    "name": "ipython",
    "version": 3
   },
   "file_extension": ".py",
   "mimetype": "text/x-python",
   "name": "python",
   "nbconvert_exporter": "python",
   "pygments_lexer": "ipython3",
   "version": "3.12.7"
  }
 },
 "nbformat": 4,
 "nbformat_minor": 5
}
