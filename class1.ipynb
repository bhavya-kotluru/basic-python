{
 "cells": [
  {
   "cell_type": "raw",
   "id": "34f8ddeb-dc90-416e-8b0a-122a1374f03e",
   "metadata": {},
   "source": [
    "if  conditon1:\n",
    "    task1 block of code\n",
    "elif  conditon2:\n",
    "    task2 block of code\n",
    "elif  conditon3:\n",
    "    task3 block of code\n",
    "elif  conditon4:\n",
    "    task4 block of code\n",
    ".\n",
    ".\n",
    ".\n",
    ".\n",
    ".\n",
    ".\n",
    "elif  conditon n:\n",
    "    task n block of code\n",
    "else:\n",
    "    task block of code"
   ]
  },
  {
   "cell_type": "code",
   "execution_count": 7,
   "id": "9aaefb52-8d95-4c57-a8c2-5f1e31fa66f3",
   "metadata": {},
   "outputs": [
    {
     "name": "stdout",
     "output_type": "stream",
     "text": [
      "Even\n"
     ]
    }
   ],
   "source": [
    "x=9\n",
    "if x+6:\n",
    "    print(\"Even\")\n",
    "else:\n",
    "    print(\"odd\")\n"
   ]
  },
  {
   "cell_type": "code",
   "execution_count": 8,
   "id": "98dc79c2-1e03-456d-b76f-0c8079c8991b",
   "metadata": {},
   "outputs": [
    {
     "data": {
      "text/plain": [
       "True"
      ]
     },
     "execution_count": 8,
     "metadata": {},
     "output_type": "execute_result"
    }
   ],
   "source": [
    "x>6"
   ]
  },
  {
   "cell_type": "code",
   "execution_count": 9,
   "id": "dc72fc83-1c7c-413a-b95f-6c12dfc121ec",
   "metadata": {},
   "outputs": [
    {
     "data": {
      "text/plain": [
       "False"
      ]
     },
     "execution_count": 9,
     "metadata": {},
     "output_type": "execute_result"
    }
   ],
   "source": [
    "x%2==0"
   ]
  },
  {
   "cell_type": "code",
   "execution_count": 2,
   "id": "011b45ec-794c-4727-99d6-e930c190bc88",
   "metadata": {},
   "outputs": [
    {
     "data": {
      "text/plain": [
       "True"
      ]
     },
     "execution_count": 2,
     "metadata": {},
     "output_type": "execute_result"
    }
   ],
   "source": [
    "bool(x+6)"
   ]
  },
  {
   "cell_type": "markdown",
   "id": "562f84c6-661a-4d15-a2cd-697b8bf5e654",
   "metadata": {},
   "source": [
    "wap to know number is positive negetive or zero"
   ]
  },
  {
   "cell_type": "code",
   "execution_count": 3,
   "id": "98957122-c3e2-444f-aee0-eeeb07276f45",
   "metadata": {},
   "outputs": [
    {
     "name": "stdout",
     "output_type": "stream",
     "text": [
      "pos\n"
     ]
    }
   ],
   "source": [
    "x=5.8\n",
    "if x>0:\n",
    "    print('pos')\n",
    "elif x<0:\n",
    "    print('neg')\n",
    "else:\n",
    "    print('zero')"
   ]
  },
  {
   "cell_type": "code",
   "execution_count": 9,
   "id": "82beb277-1398-4dbc-b1fd-418577f0288e",
   "metadata": {},
   "outputs": [
    {
     "name": "stdout",
     "output_type": "stream",
     "text": [
      "pos\n",
      "T\n"
     ]
    }
   ],
   "source": [
    "x=10\n",
    "if x>0:\n",
    "    print('pos')\n",
    "    if x>10:\n",
    "        print('M')\n",
    "    elif x>20:\n",
    "        print('P')\n",
    "    elif x<10:\n",
    "        print('k')\n",
    "    else:\n",
    "        print('T')\n",
    "elif x<0:\n",
    "    print('neg')\n",
    "    if x<-20:\n",
    "        print('Q')\n",
    "    elif x>-10:\n",
    "        print('C')\n",
    "    elif x>-30:\n",
    "        print('Z')\n",
    "else:\n",
    "    print('Zero')"
   ]
  },
  {
   "cell_type": "raw",
   "id": "3c48673e-d644-46d7-8ac5-238d5beeb9c4",
   "metadata": {},
   "source": [
    "a code for if any name strting with t print yes if not print no"
   ]
  },
  {
   "cell_type": "code",
   "execution_count": 19,
   "id": "578ab34e-b03c-40ba-8743-f8fdcbf5ddf6",
   "metadata": {},
   "outputs": [
    {
     "name": "stdout",
     "output_type": "stream",
     "text": [
      "Yes\n"
     ]
    }
   ],
   "source": [
    "x = 'tan'\n",
    "if x[0]=='t' or x[0]=='T':\n",
    "    print('Yes')\n",
    "else:\n",
    "    print('No')"
   ]
  },
  {
   "cell_type": "code",
   "execution_count": 20,
   "id": "dfb964f3-73d7-426d-8a37-4edaa771967c",
   "metadata": {},
   "outputs": [
    {
     "name": "stdout",
     "output_type": "stream",
     "text": [
      "Yes\n"
     ]
    }
   ],
   "source": [
    "x ='Mumbai'\n",
    "if x[0]=='m' or x[0]=='M':\n",
    "    print('Yes')\n",
    "else:\n",
    "    print('No')"
   ]
  },
  {
   "cell_type": "code",
   "execution_count": 1,
   "id": "4e47845b-2ff2-4870-be9d-b13557fc8a74",
   "metadata": {},
   "outputs": [
    {
     "name": "stdout",
     "output_type": "stream",
     "text": [
      "Yes\n"
     ]
    }
   ],
   "source": [
    "x ='singapur'\n",
    "if x[0]=='s' or x[0]=='S':\n",
    "    print('Yes')\n",
    "else:\n",
    "    print('No')"
   ]
  },
  {
   "cell_type": "code",
   "execution_count": 2,
   "id": "518dbbd7-4252-4ab1-a36d-eb5390e342ec",
   "metadata": {},
   "outputs": [
    {
     "name": "stdout",
     "output_type": "stream",
     "text": [
      "Yes\n"
     ]
    }
   ],
   "source": [
    "x ='Telangana'\n",
    "if x[0]=='T' or x[0]=='t':\n",
    "    print('Yes')\n",
    "else:\n",
    "    print('No')"
   ]
  },
  {
   "cell_type": "code",
   "execution_count": 3,
   "id": "9e92c8ab-9382-4c19-a7b6-3352be33fa67",
   "metadata": {},
   "outputs": [
    {
     "name": "stdout",
     "output_type": "stream",
     "text": [
      "No\n"
     ]
    }
   ],
   "source": [
    "x ='guntakal'\n",
    "if x[0]=='s' or x[0]=='S':\n",
    "    print('Yes')\n",
    "else:\n",
    "    print('No')"
   ]
  },
  {
   "cell_type": "code",
   "execution_count": 7,
   "id": "98b3619a-41ed-4e90-ba01-bd81f0437cd3",
   "metadata": {},
   "outputs": [
    {
     "name": "stdout",
     "output_type": "stream",
     "text": [
      "Yes\n"
     ]
    }
   ],
   "source": [
    "x ='singapur'\n",
    "if x[0].lower()in('s','t','m'):\n",
    "    print('Yes')\n",
    "else:\n",
    "    print('No')"
   ]
  },
  {
   "cell_type": "code",
   "execution_count": 8,
   "id": "eed4c536-5c97-43c9-83e6-e86a4a0061bf",
   "metadata": {},
   "outputs": [
    {
     "name": "stdout",
     "output_type": "stream",
     "text": [
      "Yes\n"
     ]
    }
   ],
   "source": [
    "x ='singapur'\n",
    "if x[0]=='T' or x[0]=='t' or x[0]=='s' or x[0]=='S' or x[0]=='t' or x[0]=='T':\n",
    "    print('Yes')\n",
    "else:\n",
    "    print('No')"
   ]
  },
  {
   "cell_type": "code",
   "execution_count": null,
   "id": "ae5bd96b-3aa9-4b34-ac55-50d38f7e2aba",
   "metadata": {},
   "outputs": [],
   "source": []
  }
 ],
 "metadata": {
  "kernelspec": {
   "display_name": "Python 3 (ipykernel)",
   "language": "python",
   "name": "python3"
  },
  "language_info": {
   "codemirror_mode": {
    "name": "ipython",
    "version": 3
   },
   "file_extension": ".py",
   "mimetype": "text/x-python",
   "name": "python",
   "nbconvert_exporter": "python",
   "pygments_lexer": "ipython3",
   "version": "3.12.7"
  },
  "panel-cell-order": [
   "4e4287aa-8a1f-49b9-b68b-3deebf1314df",
   "dbe49cad-3b8a-45bd-87a3-6fba83e1e850",
   "5d47f650-92d0-4c88-843c-42defe694692",
   "6c4dea43-4483-4251-b687-a6e07af14b01",
   "79801743-d403-4f82-81c0-3004713a4e22",
   "a9237038-b1c6-4e52-b5e8-f87a99de4c19",
   "8ab7acaa-6528-4e26-8b52-d07dc8ddabe9",
   "81f65ec1-da47-443c-a83b-e40000e6efb7",
   "a1b17c27-9947-409e-82ae-9922dd972a6a",
   "75dd1457-97bc-438c-9d24-9c428886d3ff",
   "8381c9e8-3d1f-4a75-89ab-f7bfe907ae49"
  ]
 },
 "nbformat": 4,
 "nbformat_minor": 5
}
