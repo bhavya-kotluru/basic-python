{
 "cells": [
  {
   "cell_type": "code",
   "execution_count": 5,
   "id": "6cd9e79a-5bc1-4897-b402-785d9cc53505",
   "metadata": {},
   "outputs": [],
   "source": [
    "import numpy as np"
   ]
  },
  {
   "cell_type": "code",
   "execution_count": 9,
   "id": "5253acd6-f194-40e2-a263-edda4318b3a6",
   "metadata": {},
   "outputs": [
    {
     "name": "stdout",
     "output_type": "stream",
     "text": [
      "[[54 49 24 47 41 62 32 32 28]\n",
      " [74 21 20 38 58 21 75 52 24]\n",
      " [72 70 23 44 55 70 69 39 63]\n",
      " [66 66 21 45 30 20 68 55 64]\n",
      " [75 36 72 73 38 28 68 49 58]\n",
      " [70 33 68 66 31 42 69 30 67]\n",
      " [28 48 67 43 61 39 74 68 47]\n",
      " [44 24 23 64 61 28 69 70 57]]\n"
     ]
    }
   ],
   "source": [
    "b = np.random.randint(20, 80, size=(8, 9))\n",
    "print(b)"
   ]
  },
  {
   "cell_type": "code",
   "execution_count": null,
   "id": "e5ccd4e0-5c00-4084-b617-8772a195af52",
   "metadata": {},
   "outputs": [],
   "source": [
    "array[row_start: row_end : row_step , col_start: col_end:col_step]"
   ]
  },
  {
   "cell_type": "code",
   "execution_count": 10,
   "id": "2b59892b-8843-4f02-abe2-16a7105f78c2",
   "metadata": {},
   "outputs": [
    {
     "data": {
      "text/plain": [
       "array([[72, 70, 23, 44, 55, 70, 69, 39, 63],\n",
       "       [66, 66, 21, 45, 30, 20, 68, 55, 64],\n",
       "       [75, 36, 72, 73, 38, 28, 68, 49, 58],\n",
       "       [70, 33, 68, 66, 31, 42, 69, 30, 67]])"
      ]
     },
     "execution_count": 10,
     "metadata": {},
     "output_type": "execute_result"
    }
   ],
   "source": [
    "b[2:6]"
   ]
  },
  {
   "cell_type": "code",
   "execution_count": 11,
   "id": "d6baf335-d5b2-4e11-8f76-95162b446d6b",
   "metadata": {},
   "outputs": [
    {
     "data": {
      "text/plain": [
       "array([[21, 20, 38, 58, 21],\n",
       "       [70, 23, 44, 55, 70],\n",
       "       [66, 21, 45, 30, 20],\n",
       "       [36, 72, 73, 38, 28]])"
      ]
     },
     "execution_count": 11,
     "metadata": {},
     "output_type": "execute_result"
    }
   ],
   "source": [
    "b[1:5,1:6]"
   ]
  },
  {
   "cell_type": "code",
   "execution_count": 14,
   "id": "db59a2b2-8276-4c5e-a84f-232e4d177d3c",
   "metadata": {},
   "outputs": [],
   "source": [
    "import pandas as pd"
   ]
  },
  {
   "cell_type": "code",
   "execution_count": 32,
   "id": "cb7c1e69-3fac-460e-be2e-408e65ebaa2d",
   "metadata": {},
   "outputs": [
    {
     "data": {
      "text/plain": [
       "['[4,7]', '[2,9]', '[7,3]', '[90,50]']"
      ]
     },
     "execution_count": 32,
     "metadata": {},
     "output_type": "execute_result"
    }
   ],
   "source": [
    "k=['[4,7]','[2,9]','[7,3]','[90,50]']\n",
    "k"
   ]
  },
  {
   "cell_type": "code",
   "execution_count": 33,
   "id": "49b56505-334f-483d-a7be-33ee1d24fee1",
   "metadata": {},
   "outputs": [
    {
     "data": {
      "text/plain": [
       "array(['[4,7]', '[2,9]', '[7,3]', '[90,50]'], dtype='<U7')"
      ]
     },
     "execution_count": 33,
     "metadata": {},
     "output_type": "execute_result"
    }
   ],
   "source": [
    "np.array(k)"
   ]
  },
  {
   "cell_type": "code",
   "execution_count": 34,
   "id": "2a0d189d-d163-4cdc-b653-a24ca7d2dcce",
   "metadata": {},
   "outputs": [
    {
     "data": {
      "text/plain": [
       "0      [4,7]\n",
       "1      [2,9]\n",
       "2      [7,3]\n",
       "3    [90,50]\n",
       "dtype: object"
      ]
     },
     "execution_count": 34,
     "metadata": {},
     "output_type": "execute_result"
    }
   ],
   "source": [
    "pd.Series(k)"
   ]
  },
  {
   "cell_type": "code",
   "execution_count": 35,
   "id": "65a5558f-e514-48b1-a959-17202e224a4d",
   "metadata": {},
   "outputs": [
    {
     "ename": "SyntaxError",
     "evalue": "unterminated string literal (detected at line 1) (4090599676.py, line 1)",
     "output_type": "error",
     "traceback": [
      "\u001b[1;36m  Cell \u001b[1;32mIn[35], line 1\u001b[1;36m\u001b[0m\n\u001b[1;33m    pd.DataFrame(k,columns=['name,'sub'],index=[289,290,291])\u001b[0m\n\u001b[1;37m                                      ^\u001b[0m\n\u001b[1;31mSyntaxError\u001b[0m\u001b[1;31m:\u001b[0m unterminated string literal (detected at line 1)\n"
     ]
    }
   ],
   "source": [
    "pd.DataFrame(k,columns=['name,'sub'],index=[289,290,291])"
   ]
  },
  {
   "cell_type": "code",
   "execution_count": 27,
   "id": "319d1d74-cff2-4f87-9ec8-d0b1439566db",
   "metadata": {},
   "outputs": [
    {
     "data": {
      "text/plain": [
       "[4, 7, 2, 9, 7, 3, 90, 50]"
      ]
     },
     "execution_count": 27,
     "metadata": {},
     "output_type": "execute_result"
    }
   ],
   "source": [
    "t=[4,7,2,9,7,3,90,50]\n",
    "t"
   ]
  },
  {
   "cell_type": "code",
   "execution_count": 28,
   "id": "21cf6e90-55ae-4921-9eea-82c43802c5c7",
   "metadata": {},
   "outputs": [
    {
     "data": {
      "text/plain": [
       "array([ 4,  7,  2,  9,  7,  3, 90, 50])"
      ]
     },
     "execution_count": 28,
     "metadata": {},
     "output_type": "execute_result"
    }
   ],
   "source": [
    "np.array(t)"
   ]
  },
  {
   "cell_type": "code",
   "execution_count": 29,
   "id": "9e22dc94-b940-47c2-b661-834b8e9c8d9d",
   "metadata": {},
   "outputs": [
    {
     "data": {
      "text/plain": [
       "0     4\n",
       "1     7\n",
       "2     2\n",
       "3     9\n",
       "4     7\n",
       "5     3\n",
       "6    90\n",
       "7    50\n",
       "dtype: int64"
      ]
     },
     "execution_count": 29,
     "metadata": {},
     "output_type": "execute_result"
    }
   ],
   "source": [
    "pd.Series(t)"
   ]
  },
  {
   "cell_type": "code",
   "execution_count": null,
   "id": "bb17d1d7-4515-47ab-b866-829b2101053e",
   "metadata": {},
   "outputs": [],
   "source": []
  }
 ],
 "metadata": {
  "kernelspec": {
   "display_name": "Python 3 (ipykernel)",
   "language": "python",
   "name": "python3"
  },
  "language_info": {
   "codemirror_mode": {
    "name": "ipython",
    "version": 3
   },
   "file_extension": ".py",
   "mimetype": "text/x-python",
   "name": "python",
   "nbconvert_exporter": "python",
   "pygments_lexer": "ipython3",
   "version": "3.12.7"
  },
  "panel-cell-order": [
   "4e4287aa-8a1f-49b9-b68b-3deebf1314df",
   "dbe49cad-3b8a-45bd-87a3-6fba83e1e850",
   "5d47f650-92d0-4c88-843c-42defe694692",
   "6c4dea43-4483-4251-b687-a6e07af14b01",
   "79801743-d403-4f82-81c0-3004713a4e22",
   "a9237038-b1c6-4e52-b5e8-f87a99de4c19",
   "8ab7acaa-6528-4e26-8b52-d07dc8ddabe9",
   "81f65ec1-da47-443c-a83b-e40000e6efb7",
   "a1b17c27-9947-409e-82ae-9922dd972a6a",
   "75dd1457-97bc-438c-9d24-9c428886d3ff",
   "8381c9e8-3d1f-4a75-89ab-f7bfe907ae49"
  ]
 },
 "nbformat": 4,
 "nbformat_minor": 5
}
